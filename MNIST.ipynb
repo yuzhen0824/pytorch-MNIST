{
  "nbformat": 4,
  "nbformat_minor": 0,
  "metadata": {
    "colab": {
      "name": "Chapter3.ipynb",
      "provenance": [],
      "collapsed_sections": []
    },
    "kernelspec": {
      "name": "python3",
      "display_name": "Python 3"
    },
    "language_info": {
      "name": "python"
    },
    "accelerator": "GPU",
    "widgets": {
      "application/vnd.jupyter.widget-state+json": {
        "1760d85742804bd5a579db15f4d62a09": {
          "model_module": "@jupyter-widgets/controls",
          "model_name": "HBoxModel",
          "model_module_version": "1.5.0",
          "state": {
            "_view_name": "HBoxView",
            "_dom_classes": [],
            "_model_name": "HBoxModel",
            "_view_module": "@jupyter-widgets/controls",
            "_model_module_version": "1.5.0",
            "_view_count": null,
            "_view_module_version": "1.5.0",
            "box_style": "",
            "layout": "IPY_MODEL_62f06a749d81434dad9b05cffafe6449",
            "_model_module": "@jupyter-widgets/controls",
            "children": [
              "IPY_MODEL_b13b0160e30a40e49017a8b6086c9125",
              "IPY_MODEL_53f8da55c6a745059bfd31b82608bceb",
              "IPY_MODEL_c089134912a84c1e844f385b4d7723d6"
            ]
          }
        },
        "62f06a749d81434dad9b05cffafe6449": {
          "model_module": "@jupyter-widgets/base",
          "model_name": "LayoutModel",
          "model_module_version": "1.2.0",
          "state": {
            "_view_name": "LayoutView",
            "grid_template_rows": null,
            "right": null,
            "justify_content": null,
            "_view_module": "@jupyter-widgets/base",
            "overflow": null,
            "_model_module_version": "1.2.0",
            "_view_count": null,
            "flex_flow": null,
            "width": null,
            "min_width": null,
            "border": null,
            "align_items": null,
            "bottom": null,
            "_model_module": "@jupyter-widgets/base",
            "top": null,
            "grid_column": null,
            "overflow_y": null,
            "overflow_x": null,
            "grid_auto_flow": null,
            "grid_area": null,
            "grid_template_columns": null,
            "flex": null,
            "_model_name": "LayoutModel",
            "justify_items": null,
            "grid_row": null,
            "max_height": null,
            "align_content": null,
            "visibility": null,
            "align_self": null,
            "height": null,
            "min_height": null,
            "padding": null,
            "grid_auto_rows": null,
            "grid_gap": null,
            "max_width": null,
            "order": null,
            "_view_module_version": "1.2.0",
            "grid_template_areas": null,
            "object_position": null,
            "object_fit": null,
            "grid_auto_columns": null,
            "margin": null,
            "display": null,
            "left": null
          }
        },
        "b13b0160e30a40e49017a8b6086c9125": {
          "model_module": "@jupyter-widgets/controls",
          "model_name": "HTMLModel",
          "model_module_version": "1.5.0",
          "state": {
            "_view_name": "HTMLView",
            "style": "IPY_MODEL_09367e2e2d3e421585056bfbdcbaf7d6",
            "_dom_classes": [],
            "description": "",
            "_model_name": "HTMLModel",
            "placeholder": "​",
            "_view_module": "@jupyter-widgets/controls",
            "_model_module_version": "1.5.0",
            "value": "",
            "_view_count": null,
            "_view_module_version": "1.5.0",
            "description_tooltip": null,
            "_model_module": "@jupyter-widgets/controls",
            "layout": "IPY_MODEL_136ea405bbe54c2ab1d9250733775096"
          }
        },
        "53f8da55c6a745059bfd31b82608bceb": {
          "model_module": "@jupyter-widgets/controls",
          "model_name": "FloatProgressModel",
          "model_module_version": "1.5.0",
          "state": {
            "_view_name": "ProgressView",
            "style": "IPY_MODEL_d75f8a8aaf054ae0b04ff19f1441eaeb",
            "_dom_classes": [],
            "description": "",
            "_model_name": "FloatProgressModel",
            "bar_style": "success",
            "max": 9912422,
            "_view_module": "@jupyter-widgets/controls",
            "_model_module_version": "1.5.0",
            "value": 9912422,
            "_view_count": null,
            "_view_module_version": "1.5.0",
            "orientation": "horizontal",
            "min": 0,
            "description_tooltip": null,
            "_model_module": "@jupyter-widgets/controls",
            "layout": "IPY_MODEL_4b80d99ad88242be969ff98f287a2a83"
          }
        },
        "c089134912a84c1e844f385b4d7723d6": {
          "model_module": "@jupyter-widgets/controls",
          "model_name": "HTMLModel",
          "model_module_version": "1.5.0",
          "state": {
            "_view_name": "HTMLView",
            "style": "IPY_MODEL_759554fe249a479d83df30572493d4f8",
            "_dom_classes": [],
            "description": "",
            "_model_name": "HTMLModel",
            "placeholder": "​",
            "_view_module": "@jupyter-widgets/controls",
            "_model_module_version": "1.5.0",
            "value": " 9913344/? [00:00&lt;00:00, 15762182.58it/s]",
            "_view_count": null,
            "_view_module_version": "1.5.0",
            "description_tooltip": null,
            "_model_module": "@jupyter-widgets/controls",
            "layout": "IPY_MODEL_0a4c0adae9be45e8858a54c70cdea1bf"
          }
        },
        "09367e2e2d3e421585056bfbdcbaf7d6": {
          "model_module": "@jupyter-widgets/controls",
          "model_name": "DescriptionStyleModel",
          "model_module_version": "1.5.0",
          "state": {
            "_view_name": "StyleView",
            "_model_name": "DescriptionStyleModel",
            "description_width": "",
            "_view_module": "@jupyter-widgets/base",
            "_model_module_version": "1.5.0",
            "_view_count": null,
            "_view_module_version": "1.2.0",
            "_model_module": "@jupyter-widgets/controls"
          }
        },
        "136ea405bbe54c2ab1d9250733775096": {
          "model_module": "@jupyter-widgets/base",
          "model_name": "LayoutModel",
          "model_module_version": "1.2.0",
          "state": {
            "_view_name": "LayoutView",
            "grid_template_rows": null,
            "right": null,
            "justify_content": null,
            "_view_module": "@jupyter-widgets/base",
            "overflow": null,
            "_model_module_version": "1.2.0",
            "_view_count": null,
            "flex_flow": null,
            "width": null,
            "min_width": null,
            "border": null,
            "align_items": null,
            "bottom": null,
            "_model_module": "@jupyter-widgets/base",
            "top": null,
            "grid_column": null,
            "overflow_y": null,
            "overflow_x": null,
            "grid_auto_flow": null,
            "grid_area": null,
            "grid_template_columns": null,
            "flex": null,
            "_model_name": "LayoutModel",
            "justify_items": null,
            "grid_row": null,
            "max_height": null,
            "align_content": null,
            "visibility": null,
            "align_self": null,
            "height": null,
            "min_height": null,
            "padding": null,
            "grid_auto_rows": null,
            "grid_gap": null,
            "max_width": null,
            "order": null,
            "_view_module_version": "1.2.0",
            "grid_template_areas": null,
            "object_position": null,
            "object_fit": null,
            "grid_auto_columns": null,
            "margin": null,
            "display": null,
            "left": null
          }
        },
        "d75f8a8aaf054ae0b04ff19f1441eaeb": {
          "model_module": "@jupyter-widgets/controls",
          "model_name": "ProgressStyleModel",
          "model_module_version": "1.5.0",
          "state": {
            "_view_name": "StyleView",
            "_model_name": "ProgressStyleModel",
            "description_width": "",
            "_view_module": "@jupyter-widgets/base",
            "_model_module_version": "1.5.0",
            "_view_count": null,
            "_view_module_version": "1.2.0",
            "bar_color": null,
            "_model_module": "@jupyter-widgets/controls"
          }
        },
        "4b80d99ad88242be969ff98f287a2a83": {
          "model_module": "@jupyter-widgets/base",
          "model_name": "LayoutModel",
          "model_module_version": "1.2.0",
          "state": {
            "_view_name": "LayoutView",
            "grid_template_rows": null,
            "right": null,
            "justify_content": null,
            "_view_module": "@jupyter-widgets/base",
            "overflow": null,
            "_model_module_version": "1.2.0",
            "_view_count": null,
            "flex_flow": null,
            "width": null,
            "min_width": null,
            "border": null,
            "align_items": null,
            "bottom": null,
            "_model_module": "@jupyter-widgets/base",
            "top": null,
            "grid_column": null,
            "overflow_y": null,
            "overflow_x": null,
            "grid_auto_flow": null,
            "grid_area": null,
            "grid_template_columns": null,
            "flex": null,
            "_model_name": "LayoutModel",
            "justify_items": null,
            "grid_row": null,
            "max_height": null,
            "align_content": null,
            "visibility": null,
            "align_self": null,
            "height": null,
            "min_height": null,
            "padding": null,
            "grid_auto_rows": null,
            "grid_gap": null,
            "max_width": null,
            "order": null,
            "_view_module_version": "1.2.0",
            "grid_template_areas": null,
            "object_position": null,
            "object_fit": null,
            "grid_auto_columns": null,
            "margin": null,
            "display": null,
            "left": null
          }
        },
        "759554fe249a479d83df30572493d4f8": {
          "model_module": "@jupyter-widgets/controls",
          "model_name": "DescriptionStyleModel",
          "model_module_version": "1.5.0",
          "state": {
            "_view_name": "StyleView",
            "_model_name": "DescriptionStyleModel",
            "description_width": "",
            "_view_module": "@jupyter-widgets/base",
            "_model_module_version": "1.5.0",
            "_view_count": null,
            "_view_module_version": "1.2.0",
            "_model_module": "@jupyter-widgets/controls"
          }
        },
        "0a4c0adae9be45e8858a54c70cdea1bf": {
          "model_module": "@jupyter-widgets/base",
          "model_name": "LayoutModel",
          "model_module_version": "1.2.0",
          "state": {
            "_view_name": "LayoutView",
            "grid_template_rows": null,
            "right": null,
            "justify_content": null,
            "_view_module": "@jupyter-widgets/base",
            "overflow": null,
            "_model_module_version": "1.2.0",
            "_view_count": null,
            "flex_flow": null,
            "width": null,
            "min_width": null,
            "border": null,
            "align_items": null,
            "bottom": null,
            "_model_module": "@jupyter-widgets/base",
            "top": null,
            "grid_column": null,
            "overflow_y": null,
            "overflow_x": null,
            "grid_auto_flow": null,
            "grid_area": null,
            "grid_template_columns": null,
            "flex": null,
            "_model_name": "LayoutModel",
            "justify_items": null,
            "grid_row": null,
            "max_height": null,
            "align_content": null,
            "visibility": null,
            "align_self": null,
            "height": null,
            "min_height": null,
            "padding": null,
            "grid_auto_rows": null,
            "grid_gap": null,
            "max_width": null,
            "order": null,
            "_view_module_version": "1.2.0",
            "grid_template_areas": null,
            "object_position": null,
            "object_fit": null,
            "grid_auto_columns": null,
            "margin": null,
            "display": null,
            "left": null
          }
        },
        "0969477f6eeb4340a546d49aed1ab990": {
          "model_module": "@jupyter-widgets/controls",
          "model_name": "HBoxModel",
          "model_module_version": "1.5.0",
          "state": {
            "_view_name": "HBoxView",
            "_dom_classes": [],
            "_model_name": "HBoxModel",
            "_view_module": "@jupyter-widgets/controls",
            "_model_module_version": "1.5.0",
            "_view_count": null,
            "_view_module_version": "1.5.0",
            "box_style": "",
            "layout": "IPY_MODEL_5321c66f5c8642239458d31abe4527be",
            "_model_module": "@jupyter-widgets/controls",
            "children": [
              "IPY_MODEL_f4a4fab0ed4a41c0992e15e9a270abf6",
              "IPY_MODEL_5075125fc32c40f0b0820e3d780ac409",
              "IPY_MODEL_9a057d8e989146abb3bb1ee4ee73789a"
            ]
          }
        },
        "5321c66f5c8642239458d31abe4527be": {
          "model_module": "@jupyter-widgets/base",
          "model_name": "LayoutModel",
          "model_module_version": "1.2.0",
          "state": {
            "_view_name": "LayoutView",
            "grid_template_rows": null,
            "right": null,
            "justify_content": null,
            "_view_module": "@jupyter-widgets/base",
            "overflow": null,
            "_model_module_version": "1.2.0",
            "_view_count": null,
            "flex_flow": null,
            "width": null,
            "min_width": null,
            "border": null,
            "align_items": null,
            "bottom": null,
            "_model_module": "@jupyter-widgets/base",
            "top": null,
            "grid_column": null,
            "overflow_y": null,
            "overflow_x": null,
            "grid_auto_flow": null,
            "grid_area": null,
            "grid_template_columns": null,
            "flex": null,
            "_model_name": "LayoutModel",
            "justify_items": null,
            "grid_row": null,
            "max_height": null,
            "align_content": null,
            "visibility": null,
            "align_self": null,
            "height": null,
            "min_height": null,
            "padding": null,
            "grid_auto_rows": null,
            "grid_gap": null,
            "max_width": null,
            "order": null,
            "_view_module_version": "1.2.0",
            "grid_template_areas": null,
            "object_position": null,
            "object_fit": null,
            "grid_auto_columns": null,
            "margin": null,
            "display": null,
            "left": null
          }
        },
        "f4a4fab0ed4a41c0992e15e9a270abf6": {
          "model_module": "@jupyter-widgets/controls",
          "model_name": "HTMLModel",
          "model_module_version": "1.5.0",
          "state": {
            "_view_name": "HTMLView",
            "style": "IPY_MODEL_b5e04322d67a41ae88c18708389eef8f",
            "_dom_classes": [],
            "description": "",
            "_model_name": "HTMLModel",
            "placeholder": "​",
            "_view_module": "@jupyter-widgets/controls",
            "_model_module_version": "1.5.0",
            "value": "",
            "_view_count": null,
            "_view_module_version": "1.5.0",
            "description_tooltip": null,
            "_model_module": "@jupyter-widgets/controls",
            "layout": "IPY_MODEL_a59bcc8f83414a9ba0fdca1a122f998c"
          }
        },
        "5075125fc32c40f0b0820e3d780ac409": {
          "model_module": "@jupyter-widgets/controls",
          "model_name": "FloatProgressModel",
          "model_module_version": "1.5.0",
          "state": {
            "_view_name": "ProgressView",
            "style": "IPY_MODEL_348c54808be8443597a4df3536020094",
            "_dom_classes": [],
            "description": "",
            "_model_name": "FloatProgressModel",
            "bar_style": "success",
            "max": 28881,
            "_view_module": "@jupyter-widgets/controls",
            "_model_module_version": "1.5.0",
            "value": 28881,
            "_view_count": null,
            "_view_module_version": "1.5.0",
            "orientation": "horizontal",
            "min": 0,
            "description_tooltip": null,
            "_model_module": "@jupyter-widgets/controls",
            "layout": "IPY_MODEL_b4a96392c2bb429b8b0f2eb18f42cad0"
          }
        },
        "9a057d8e989146abb3bb1ee4ee73789a": {
          "model_module": "@jupyter-widgets/controls",
          "model_name": "HTMLModel",
          "model_module_version": "1.5.0",
          "state": {
            "_view_name": "HTMLView",
            "style": "IPY_MODEL_9690de5da0ff4c38ae0e22b3f8d90521",
            "_dom_classes": [],
            "description": "",
            "_model_name": "HTMLModel",
            "placeholder": "​",
            "_view_module": "@jupyter-widgets/controls",
            "_model_module_version": "1.5.0",
            "value": " 29696/? [00:00&lt;00:00, 356128.18it/s]",
            "_view_count": null,
            "_view_module_version": "1.5.0",
            "description_tooltip": null,
            "_model_module": "@jupyter-widgets/controls",
            "layout": "IPY_MODEL_fc86ef4fd3e2464ab2f83b7fe3706150"
          }
        },
        "b5e04322d67a41ae88c18708389eef8f": {
          "model_module": "@jupyter-widgets/controls",
          "model_name": "DescriptionStyleModel",
          "model_module_version": "1.5.0",
          "state": {
            "_view_name": "StyleView",
            "_model_name": "DescriptionStyleModel",
            "description_width": "",
            "_view_module": "@jupyter-widgets/base",
            "_model_module_version": "1.5.0",
            "_view_count": null,
            "_view_module_version": "1.2.0",
            "_model_module": "@jupyter-widgets/controls"
          }
        },
        "a59bcc8f83414a9ba0fdca1a122f998c": {
          "model_module": "@jupyter-widgets/base",
          "model_name": "LayoutModel",
          "model_module_version": "1.2.0",
          "state": {
            "_view_name": "LayoutView",
            "grid_template_rows": null,
            "right": null,
            "justify_content": null,
            "_view_module": "@jupyter-widgets/base",
            "overflow": null,
            "_model_module_version": "1.2.0",
            "_view_count": null,
            "flex_flow": null,
            "width": null,
            "min_width": null,
            "border": null,
            "align_items": null,
            "bottom": null,
            "_model_module": "@jupyter-widgets/base",
            "top": null,
            "grid_column": null,
            "overflow_y": null,
            "overflow_x": null,
            "grid_auto_flow": null,
            "grid_area": null,
            "grid_template_columns": null,
            "flex": null,
            "_model_name": "LayoutModel",
            "justify_items": null,
            "grid_row": null,
            "max_height": null,
            "align_content": null,
            "visibility": null,
            "align_self": null,
            "height": null,
            "min_height": null,
            "padding": null,
            "grid_auto_rows": null,
            "grid_gap": null,
            "max_width": null,
            "order": null,
            "_view_module_version": "1.2.0",
            "grid_template_areas": null,
            "object_position": null,
            "object_fit": null,
            "grid_auto_columns": null,
            "margin": null,
            "display": null,
            "left": null
          }
        },
        "348c54808be8443597a4df3536020094": {
          "model_module": "@jupyter-widgets/controls",
          "model_name": "ProgressStyleModel",
          "model_module_version": "1.5.0",
          "state": {
            "_view_name": "StyleView",
            "_model_name": "ProgressStyleModel",
            "description_width": "",
            "_view_module": "@jupyter-widgets/base",
            "_model_module_version": "1.5.0",
            "_view_count": null,
            "_view_module_version": "1.2.0",
            "bar_color": null,
            "_model_module": "@jupyter-widgets/controls"
          }
        },
        "b4a96392c2bb429b8b0f2eb18f42cad0": {
          "model_module": "@jupyter-widgets/base",
          "model_name": "LayoutModel",
          "model_module_version": "1.2.0",
          "state": {
            "_view_name": "LayoutView",
            "grid_template_rows": null,
            "right": null,
            "justify_content": null,
            "_view_module": "@jupyter-widgets/base",
            "overflow": null,
            "_model_module_version": "1.2.0",
            "_view_count": null,
            "flex_flow": null,
            "width": null,
            "min_width": null,
            "border": null,
            "align_items": null,
            "bottom": null,
            "_model_module": "@jupyter-widgets/base",
            "top": null,
            "grid_column": null,
            "overflow_y": null,
            "overflow_x": null,
            "grid_auto_flow": null,
            "grid_area": null,
            "grid_template_columns": null,
            "flex": null,
            "_model_name": "LayoutModel",
            "justify_items": null,
            "grid_row": null,
            "max_height": null,
            "align_content": null,
            "visibility": null,
            "align_self": null,
            "height": null,
            "min_height": null,
            "padding": null,
            "grid_auto_rows": null,
            "grid_gap": null,
            "max_width": null,
            "order": null,
            "_view_module_version": "1.2.0",
            "grid_template_areas": null,
            "object_position": null,
            "object_fit": null,
            "grid_auto_columns": null,
            "margin": null,
            "display": null,
            "left": null
          }
        },
        "9690de5da0ff4c38ae0e22b3f8d90521": {
          "model_module": "@jupyter-widgets/controls",
          "model_name": "DescriptionStyleModel",
          "model_module_version": "1.5.0",
          "state": {
            "_view_name": "StyleView",
            "_model_name": "DescriptionStyleModel",
            "description_width": "",
            "_view_module": "@jupyter-widgets/base",
            "_model_module_version": "1.5.0",
            "_view_count": null,
            "_view_module_version": "1.2.0",
            "_model_module": "@jupyter-widgets/controls"
          }
        },
        "fc86ef4fd3e2464ab2f83b7fe3706150": {
          "model_module": "@jupyter-widgets/base",
          "model_name": "LayoutModel",
          "model_module_version": "1.2.0",
          "state": {
            "_view_name": "LayoutView",
            "grid_template_rows": null,
            "right": null,
            "justify_content": null,
            "_view_module": "@jupyter-widgets/base",
            "overflow": null,
            "_model_module_version": "1.2.0",
            "_view_count": null,
            "flex_flow": null,
            "width": null,
            "min_width": null,
            "border": null,
            "align_items": null,
            "bottom": null,
            "_model_module": "@jupyter-widgets/base",
            "top": null,
            "grid_column": null,
            "overflow_y": null,
            "overflow_x": null,
            "grid_auto_flow": null,
            "grid_area": null,
            "grid_template_columns": null,
            "flex": null,
            "_model_name": "LayoutModel",
            "justify_items": null,
            "grid_row": null,
            "max_height": null,
            "align_content": null,
            "visibility": null,
            "align_self": null,
            "height": null,
            "min_height": null,
            "padding": null,
            "grid_auto_rows": null,
            "grid_gap": null,
            "max_width": null,
            "order": null,
            "_view_module_version": "1.2.0",
            "grid_template_areas": null,
            "object_position": null,
            "object_fit": null,
            "grid_auto_columns": null,
            "margin": null,
            "display": null,
            "left": null
          }
        },
        "cdd9eaa2b331429782c74d8f623d8a51": {
          "model_module": "@jupyter-widgets/controls",
          "model_name": "HBoxModel",
          "model_module_version": "1.5.0",
          "state": {
            "_view_name": "HBoxView",
            "_dom_classes": [],
            "_model_name": "HBoxModel",
            "_view_module": "@jupyter-widgets/controls",
            "_model_module_version": "1.5.0",
            "_view_count": null,
            "_view_module_version": "1.5.0",
            "box_style": "",
            "layout": "IPY_MODEL_16cda6cfd9454c7a99db6c08460842c0",
            "_model_module": "@jupyter-widgets/controls",
            "children": [
              "IPY_MODEL_42b9e0b0bff145e89e98bdc3705e0ce5",
              "IPY_MODEL_74ed0bb2e0a243e6ab890b3cbbeb59c7",
              "IPY_MODEL_5e17df316b734236b1a0ed08c4285773"
            ]
          }
        },
        "16cda6cfd9454c7a99db6c08460842c0": {
          "model_module": "@jupyter-widgets/base",
          "model_name": "LayoutModel",
          "model_module_version": "1.2.0",
          "state": {
            "_view_name": "LayoutView",
            "grid_template_rows": null,
            "right": null,
            "justify_content": null,
            "_view_module": "@jupyter-widgets/base",
            "overflow": null,
            "_model_module_version": "1.2.0",
            "_view_count": null,
            "flex_flow": null,
            "width": null,
            "min_width": null,
            "border": null,
            "align_items": null,
            "bottom": null,
            "_model_module": "@jupyter-widgets/base",
            "top": null,
            "grid_column": null,
            "overflow_y": null,
            "overflow_x": null,
            "grid_auto_flow": null,
            "grid_area": null,
            "grid_template_columns": null,
            "flex": null,
            "_model_name": "LayoutModel",
            "justify_items": null,
            "grid_row": null,
            "max_height": null,
            "align_content": null,
            "visibility": null,
            "align_self": null,
            "height": null,
            "min_height": null,
            "padding": null,
            "grid_auto_rows": null,
            "grid_gap": null,
            "max_width": null,
            "order": null,
            "_view_module_version": "1.2.0",
            "grid_template_areas": null,
            "object_position": null,
            "object_fit": null,
            "grid_auto_columns": null,
            "margin": null,
            "display": null,
            "left": null
          }
        },
        "42b9e0b0bff145e89e98bdc3705e0ce5": {
          "model_module": "@jupyter-widgets/controls",
          "model_name": "HTMLModel",
          "model_module_version": "1.5.0",
          "state": {
            "_view_name": "HTMLView",
            "style": "IPY_MODEL_d0b934b4aef24a2bb2e623fe6bf8714d",
            "_dom_classes": [],
            "description": "",
            "_model_name": "HTMLModel",
            "placeholder": "​",
            "_view_module": "@jupyter-widgets/controls",
            "_model_module_version": "1.5.0",
            "value": "",
            "_view_count": null,
            "_view_module_version": "1.5.0",
            "description_tooltip": null,
            "_model_module": "@jupyter-widgets/controls",
            "layout": "IPY_MODEL_f27407900a4c482ea37ecef24f78c102"
          }
        },
        "74ed0bb2e0a243e6ab890b3cbbeb59c7": {
          "model_module": "@jupyter-widgets/controls",
          "model_name": "FloatProgressModel",
          "model_module_version": "1.5.0",
          "state": {
            "_view_name": "ProgressView",
            "style": "IPY_MODEL_4deb8a3626be4393a59781565f11befc",
            "_dom_classes": [],
            "description": "",
            "_model_name": "FloatProgressModel",
            "bar_style": "success",
            "max": 1648877,
            "_view_module": "@jupyter-widgets/controls",
            "_model_module_version": "1.5.0",
            "value": 1648877,
            "_view_count": null,
            "_view_module_version": "1.5.0",
            "orientation": "horizontal",
            "min": 0,
            "description_tooltip": null,
            "_model_module": "@jupyter-widgets/controls",
            "layout": "IPY_MODEL_6c8dbd4680d541a2901c1cc1617ac552"
          }
        },
        "5e17df316b734236b1a0ed08c4285773": {
          "model_module": "@jupyter-widgets/controls",
          "model_name": "HTMLModel",
          "model_module_version": "1.5.0",
          "state": {
            "_view_name": "HTMLView",
            "style": "IPY_MODEL_780ad4e85b504a869690f745fe47cbf2",
            "_dom_classes": [],
            "description": "",
            "_model_name": "HTMLModel",
            "placeholder": "​",
            "_view_module": "@jupyter-widgets/controls",
            "_model_module_version": "1.5.0",
            "value": " 1649664/? [00:00&lt;00:00, 4295179.57it/s]",
            "_view_count": null,
            "_view_module_version": "1.5.0",
            "description_tooltip": null,
            "_model_module": "@jupyter-widgets/controls",
            "layout": "IPY_MODEL_d2016118536c424886d90856253be726"
          }
        },
        "d0b934b4aef24a2bb2e623fe6bf8714d": {
          "model_module": "@jupyter-widgets/controls",
          "model_name": "DescriptionStyleModel",
          "model_module_version": "1.5.0",
          "state": {
            "_view_name": "StyleView",
            "_model_name": "DescriptionStyleModel",
            "description_width": "",
            "_view_module": "@jupyter-widgets/base",
            "_model_module_version": "1.5.0",
            "_view_count": null,
            "_view_module_version": "1.2.0",
            "_model_module": "@jupyter-widgets/controls"
          }
        },
        "f27407900a4c482ea37ecef24f78c102": {
          "model_module": "@jupyter-widgets/base",
          "model_name": "LayoutModel",
          "model_module_version": "1.2.0",
          "state": {
            "_view_name": "LayoutView",
            "grid_template_rows": null,
            "right": null,
            "justify_content": null,
            "_view_module": "@jupyter-widgets/base",
            "overflow": null,
            "_model_module_version": "1.2.0",
            "_view_count": null,
            "flex_flow": null,
            "width": null,
            "min_width": null,
            "border": null,
            "align_items": null,
            "bottom": null,
            "_model_module": "@jupyter-widgets/base",
            "top": null,
            "grid_column": null,
            "overflow_y": null,
            "overflow_x": null,
            "grid_auto_flow": null,
            "grid_area": null,
            "grid_template_columns": null,
            "flex": null,
            "_model_name": "LayoutModel",
            "justify_items": null,
            "grid_row": null,
            "max_height": null,
            "align_content": null,
            "visibility": null,
            "align_self": null,
            "height": null,
            "min_height": null,
            "padding": null,
            "grid_auto_rows": null,
            "grid_gap": null,
            "max_width": null,
            "order": null,
            "_view_module_version": "1.2.0",
            "grid_template_areas": null,
            "object_position": null,
            "object_fit": null,
            "grid_auto_columns": null,
            "margin": null,
            "display": null,
            "left": null
          }
        },
        "4deb8a3626be4393a59781565f11befc": {
          "model_module": "@jupyter-widgets/controls",
          "model_name": "ProgressStyleModel",
          "model_module_version": "1.5.0",
          "state": {
            "_view_name": "StyleView",
            "_model_name": "ProgressStyleModel",
            "description_width": "",
            "_view_module": "@jupyter-widgets/base",
            "_model_module_version": "1.5.0",
            "_view_count": null,
            "_view_module_version": "1.2.0",
            "bar_color": null,
            "_model_module": "@jupyter-widgets/controls"
          }
        },
        "6c8dbd4680d541a2901c1cc1617ac552": {
          "model_module": "@jupyter-widgets/base",
          "model_name": "LayoutModel",
          "model_module_version": "1.2.0",
          "state": {
            "_view_name": "LayoutView",
            "grid_template_rows": null,
            "right": null,
            "justify_content": null,
            "_view_module": "@jupyter-widgets/base",
            "overflow": null,
            "_model_module_version": "1.2.0",
            "_view_count": null,
            "flex_flow": null,
            "width": null,
            "min_width": null,
            "border": null,
            "align_items": null,
            "bottom": null,
            "_model_module": "@jupyter-widgets/base",
            "top": null,
            "grid_column": null,
            "overflow_y": null,
            "overflow_x": null,
            "grid_auto_flow": null,
            "grid_area": null,
            "grid_template_columns": null,
            "flex": null,
            "_model_name": "LayoutModel",
            "justify_items": null,
            "grid_row": null,
            "max_height": null,
            "align_content": null,
            "visibility": null,
            "align_self": null,
            "height": null,
            "min_height": null,
            "padding": null,
            "grid_auto_rows": null,
            "grid_gap": null,
            "max_width": null,
            "order": null,
            "_view_module_version": "1.2.0",
            "grid_template_areas": null,
            "object_position": null,
            "object_fit": null,
            "grid_auto_columns": null,
            "margin": null,
            "display": null,
            "left": null
          }
        },
        "780ad4e85b504a869690f745fe47cbf2": {
          "model_module": "@jupyter-widgets/controls",
          "model_name": "DescriptionStyleModel",
          "model_module_version": "1.5.0",
          "state": {
            "_view_name": "StyleView",
            "_model_name": "DescriptionStyleModel",
            "description_width": "",
            "_view_module": "@jupyter-widgets/base",
            "_model_module_version": "1.5.0",
            "_view_count": null,
            "_view_module_version": "1.2.0",
            "_model_module": "@jupyter-widgets/controls"
          }
        },
        "d2016118536c424886d90856253be726": {
          "model_module": "@jupyter-widgets/base",
          "model_name": "LayoutModel",
          "model_module_version": "1.2.0",
          "state": {
            "_view_name": "LayoutView",
            "grid_template_rows": null,
            "right": null,
            "justify_content": null,
            "_view_module": "@jupyter-widgets/base",
            "overflow": null,
            "_model_module_version": "1.2.0",
            "_view_count": null,
            "flex_flow": null,
            "width": null,
            "min_width": null,
            "border": null,
            "align_items": null,
            "bottom": null,
            "_model_module": "@jupyter-widgets/base",
            "top": null,
            "grid_column": null,
            "overflow_y": null,
            "overflow_x": null,
            "grid_auto_flow": null,
            "grid_area": null,
            "grid_template_columns": null,
            "flex": null,
            "_model_name": "LayoutModel",
            "justify_items": null,
            "grid_row": null,
            "max_height": null,
            "align_content": null,
            "visibility": null,
            "align_self": null,
            "height": null,
            "min_height": null,
            "padding": null,
            "grid_auto_rows": null,
            "grid_gap": null,
            "max_width": null,
            "order": null,
            "_view_module_version": "1.2.0",
            "grid_template_areas": null,
            "object_position": null,
            "object_fit": null,
            "grid_auto_columns": null,
            "margin": null,
            "display": null,
            "left": null
          }
        },
        "a8c583f0ce644eafbee492705d714f6d": {
          "model_module": "@jupyter-widgets/controls",
          "model_name": "HBoxModel",
          "model_module_version": "1.5.0",
          "state": {
            "_view_name": "HBoxView",
            "_dom_classes": [],
            "_model_name": "HBoxModel",
            "_view_module": "@jupyter-widgets/controls",
            "_model_module_version": "1.5.0",
            "_view_count": null,
            "_view_module_version": "1.5.0",
            "box_style": "",
            "layout": "IPY_MODEL_4318a97febca4417abf1c847d85f53f1",
            "_model_module": "@jupyter-widgets/controls",
            "children": [
              "IPY_MODEL_2691c7c8f60e4ff282b0adcff08f10f1",
              "IPY_MODEL_721a5b734c7547d4a7b96cf738afeae1",
              "IPY_MODEL_8ee989d405cb4a869a1eca0a617795b8"
            ]
          }
        },
        "4318a97febca4417abf1c847d85f53f1": {
          "model_module": "@jupyter-widgets/base",
          "model_name": "LayoutModel",
          "model_module_version": "1.2.0",
          "state": {
            "_view_name": "LayoutView",
            "grid_template_rows": null,
            "right": null,
            "justify_content": null,
            "_view_module": "@jupyter-widgets/base",
            "overflow": null,
            "_model_module_version": "1.2.0",
            "_view_count": null,
            "flex_flow": null,
            "width": null,
            "min_width": null,
            "border": null,
            "align_items": null,
            "bottom": null,
            "_model_module": "@jupyter-widgets/base",
            "top": null,
            "grid_column": null,
            "overflow_y": null,
            "overflow_x": null,
            "grid_auto_flow": null,
            "grid_area": null,
            "grid_template_columns": null,
            "flex": null,
            "_model_name": "LayoutModel",
            "justify_items": null,
            "grid_row": null,
            "max_height": null,
            "align_content": null,
            "visibility": null,
            "align_self": null,
            "height": null,
            "min_height": null,
            "padding": null,
            "grid_auto_rows": null,
            "grid_gap": null,
            "max_width": null,
            "order": null,
            "_view_module_version": "1.2.0",
            "grid_template_areas": null,
            "object_position": null,
            "object_fit": null,
            "grid_auto_columns": null,
            "margin": null,
            "display": null,
            "left": null
          }
        },
        "2691c7c8f60e4ff282b0adcff08f10f1": {
          "model_module": "@jupyter-widgets/controls",
          "model_name": "HTMLModel",
          "model_module_version": "1.5.0",
          "state": {
            "_view_name": "HTMLView",
            "style": "IPY_MODEL_fd58131da9564f34998ba77fb8ed677d",
            "_dom_classes": [],
            "description": "",
            "_model_name": "HTMLModel",
            "placeholder": "​",
            "_view_module": "@jupyter-widgets/controls",
            "_model_module_version": "1.5.0",
            "value": "",
            "_view_count": null,
            "_view_module_version": "1.5.0",
            "description_tooltip": null,
            "_model_module": "@jupyter-widgets/controls",
            "layout": "IPY_MODEL_aa6381b7455e4c4790df0fed10af6117"
          }
        },
        "721a5b734c7547d4a7b96cf738afeae1": {
          "model_module": "@jupyter-widgets/controls",
          "model_name": "FloatProgressModel",
          "model_module_version": "1.5.0",
          "state": {
            "_view_name": "ProgressView",
            "style": "IPY_MODEL_02fc44c674094e109f25d3a7086a7837",
            "_dom_classes": [],
            "description": "",
            "_model_name": "FloatProgressModel",
            "bar_style": "success",
            "max": 4542,
            "_view_module": "@jupyter-widgets/controls",
            "_model_module_version": "1.5.0",
            "value": 4542,
            "_view_count": null,
            "_view_module_version": "1.5.0",
            "orientation": "horizontal",
            "min": 0,
            "description_tooltip": null,
            "_model_module": "@jupyter-widgets/controls",
            "layout": "IPY_MODEL_7aa4e5452afe47e98bad960e6cd1aca2"
          }
        },
        "8ee989d405cb4a869a1eca0a617795b8": {
          "model_module": "@jupyter-widgets/controls",
          "model_name": "HTMLModel",
          "model_module_version": "1.5.0",
          "state": {
            "_view_name": "HTMLView",
            "style": "IPY_MODEL_f1abf3a51053419a9c1a00414ede5eff",
            "_dom_classes": [],
            "description": "",
            "_model_name": "HTMLModel",
            "placeholder": "​",
            "_view_module": "@jupyter-widgets/controls",
            "_model_module_version": "1.5.0",
            "value": " 5120/? [00:00&lt;00:00, 8237.85it/s]",
            "_view_count": null,
            "_view_module_version": "1.5.0",
            "description_tooltip": null,
            "_model_module": "@jupyter-widgets/controls",
            "layout": "IPY_MODEL_cb8ab9c263d542239a977ef84db81ca6"
          }
        },
        "fd58131da9564f34998ba77fb8ed677d": {
          "model_module": "@jupyter-widgets/controls",
          "model_name": "DescriptionStyleModel",
          "model_module_version": "1.5.0",
          "state": {
            "_view_name": "StyleView",
            "_model_name": "DescriptionStyleModel",
            "description_width": "",
            "_view_module": "@jupyter-widgets/base",
            "_model_module_version": "1.5.0",
            "_view_count": null,
            "_view_module_version": "1.2.0",
            "_model_module": "@jupyter-widgets/controls"
          }
        },
        "aa6381b7455e4c4790df0fed10af6117": {
          "model_module": "@jupyter-widgets/base",
          "model_name": "LayoutModel",
          "model_module_version": "1.2.0",
          "state": {
            "_view_name": "LayoutView",
            "grid_template_rows": null,
            "right": null,
            "justify_content": null,
            "_view_module": "@jupyter-widgets/base",
            "overflow": null,
            "_model_module_version": "1.2.0",
            "_view_count": null,
            "flex_flow": null,
            "width": null,
            "min_width": null,
            "border": null,
            "align_items": null,
            "bottom": null,
            "_model_module": "@jupyter-widgets/base",
            "top": null,
            "grid_column": null,
            "overflow_y": null,
            "overflow_x": null,
            "grid_auto_flow": null,
            "grid_area": null,
            "grid_template_columns": null,
            "flex": null,
            "_model_name": "LayoutModel",
            "justify_items": null,
            "grid_row": null,
            "max_height": null,
            "align_content": null,
            "visibility": null,
            "align_self": null,
            "height": null,
            "min_height": null,
            "padding": null,
            "grid_auto_rows": null,
            "grid_gap": null,
            "max_width": null,
            "order": null,
            "_view_module_version": "1.2.0",
            "grid_template_areas": null,
            "object_position": null,
            "object_fit": null,
            "grid_auto_columns": null,
            "margin": null,
            "display": null,
            "left": null
          }
        },
        "02fc44c674094e109f25d3a7086a7837": {
          "model_module": "@jupyter-widgets/controls",
          "model_name": "ProgressStyleModel",
          "model_module_version": "1.5.0",
          "state": {
            "_view_name": "StyleView",
            "_model_name": "ProgressStyleModel",
            "description_width": "",
            "_view_module": "@jupyter-widgets/base",
            "_model_module_version": "1.5.0",
            "_view_count": null,
            "_view_module_version": "1.2.0",
            "bar_color": null,
            "_model_module": "@jupyter-widgets/controls"
          }
        },
        "7aa4e5452afe47e98bad960e6cd1aca2": {
          "model_module": "@jupyter-widgets/base",
          "model_name": "LayoutModel",
          "model_module_version": "1.2.0",
          "state": {
            "_view_name": "LayoutView",
            "grid_template_rows": null,
            "right": null,
            "justify_content": null,
            "_view_module": "@jupyter-widgets/base",
            "overflow": null,
            "_model_module_version": "1.2.0",
            "_view_count": null,
            "flex_flow": null,
            "width": null,
            "min_width": null,
            "border": null,
            "align_items": null,
            "bottom": null,
            "_model_module": "@jupyter-widgets/base",
            "top": null,
            "grid_column": null,
            "overflow_y": null,
            "overflow_x": null,
            "grid_auto_flow": null,
            "grid_area": null,
            "grid_template_columns": null,
            "flex": null,
            "_model_name": "LayoutModel",
            "justify_items": null,
            "grid_row": null,
            "max_height": null,
            "align_content": null,
            "visibility": null,
            "align_self": null,
            "height": null,
            "min_height": null,
            "padding": null,
            "grid_auto_rows": null,
            "grid_gap": null,
            "max_width": null,
            "order": null,
            "_view_module_version": "1.2.0",
            "grid_template_areas": null,
            "object_position": null,
            "object_fit": null,
            "grid_auto_columns": null,
            "margin": null,
            "display": null,
            "left": null
          }
        },
        "f1abf3a51053419a9c1a00414ede5eff": {
          "model_module": "@jupyter-widgets/controls",
          "model_name": "DescriptionStyleModel",
          "model_module_version": "1.5.0",
          "state": {
            "_view_name": "StyleView",
            "_model_name": "DescriptionStyleModel",
            "description_width": "",
            "_view_module": "@jupyter-widgets/base",
            "_model_module_version": "1.5.0",
            "_view_count": null,
            "_view_module_version": "1.2.0",
            "_model_module": "@jupyter-widgets/controls"
          }
        },
        "cb8ab9c263d542239a977ef84db81ca6": {
          "model_module": "@jupyter-widgets/base",
          "model_name": "LayoutModel",
          "model_module_version": "1.2.0",
          "state": {
            "_view_name": "LayoutView",
            "grid_template_rows": null,
            "right": null,
            "justify_content": null,
            "_view_module": "@jupyter-widgets/base",
            "overflow": null,
            "_model_module_version": "1.2.0",
            "_view_count": null,
            "flex_flow": null,
            "width": null,
            "min_width": null,
            "border": null,
            "align_items": null,
            "bottom": null,
            "_model_module": "@jupyter-widgets/base",
            "top": null,
            "grid_column": null,
            "overflow_y": null,
            "overflow_x": null,
            "grid_auto_flow": null,
            "grid_area": null,
            "grid_template_columns": null,
            "flex": null,
            "_model_name": "LayoutModel",
            "justify_items": null,
            "grid_row": null,
            "max_height": null,
            "align_content": null,
            "visibility": null,
            "align_self": null,
            "height": null,
            "min_height": null,
            "padding": null,
            "grid_auto_rows": null,
            "grid_gap": null,
            "max_width": null,
            "order": null,
            "_view_module_version": "1.2.0",
            "grid_template_areas": null,
            "object_position": null,
            "object_fit": null,
            "grid_auto_columns": null,
            "margin": null,
            "display": null,
            "left": null
          }
        }
      }
    }
  },
  "cells": [
    {
      "cell_type": "code",
      "metadata": {
        "id": "XGdLga3YqXWh"
      },
      "source": [
        "import torchvision.datasets as dsets\n",
        "import torchvision.transforms as transforms"
      ],
      "execution_count": 1,
      "outputs": []
    },
    {
      "cell_type": "code",
      "metadata": {
        "id": "CoJXf3YgxFtR",
        "colab": {
          "base_uri": "https://localhost:8080/",
          "height": 422,
          "referenced_widgets": [
            "1760d85742804bd5a579db15f4d62a09",
            "62f06a749d81434dad9b05cffafe6449",
            "b13b0160e30a40e49017a8b6086c9125",
            "53f8da55c6a745059bfd31b82608bceb",
            "c089134912a84c1e844f385b4d7723d6",
            "09367e2e2d3e421585056bfbdcbaf7d6",
            "136ea405bbe54c2ab1d9250733775096",
            "d75f8a8aaf054ae0b04ff19f1441eaeb",
            "4b80d99ad88242be969ff98f287a2a83",
            "759554fe249a479d83df30572493d4f8",
            "0a4c0adae9be45e8858a54c70cdea1bf",
            "0969477f6eeb4340a546d49aed1ab990",
            "5321c66f5c8642239458d31abe4527be",
            "f4a4fab0ed4a41c0992e15e9a270abf6",
            "5075125fc32c40f0b0820e3d780ac409",
            "9a057d8e989146abb3bb1ee4ee73789a",
            "b5e04322d67a41ae88c18708389eef8f",
            "a59bcc8f83414a9ba0fdca1a122f998c",
            "348c54808be8443597a4df3536020094",
            "b4a96392c2bb429b8b0f2eb18f42cad0",
            "9690de5da0ff4c38ae0e22b3f8d90521",
            "fc86ef4fd3e2464ab2f83b7fe3706150",
            "cdd9eaa2b331429782c74d8f623d8a51",
            "16cda6cfd9454c7a99db6c08460842c0",
            "42b9e0b0bff145e89e98bdc3705e0ce5",
            "74ed0bb2e0a243e6ab890b3cbbeb59c7",
            "5e17df316b734236b1a0ed08c4285773",
            "d0b934b4aef24a2bb2e623fe6bf8714d",
            "f27407900a4c482ea37ecef24f78c102",
            "4deb8a3626be4393a59781565f11befc",
            "6c8dbd4680d541a2901c1cc1617ac552",
            "780ad4e85b504a869690f745fe47cbf2",
            "d2016118536c424886d90856253be726",
            "a8c583f0ce644eafbee492705d714f6d",
            "4318a97febca4417abf1c847d85f53f1",
            "2691c7c8f60e4ff282b0adcff08f10f1",
            "721a5b734c7547d4a7b96cf738afeae1",
            "8ee989d405cb4a869a1eca0a617795b8",
            "fd58131da9564f34998ba77fb8ed677d",
            "aa6381b7455e4c4790df0fed10af6117",
            "02fc44c674094e109f25d3a7086a7837",
            "7aa4e5452afe47e98bad960e6cd1aca2",
            "f1abf3a51053419a9c1a00414ede5eff",
            "cb8ab9c263d542239a977ef84db81ca6"
          ]
        },
        "outputId": "6d892be5-c863-44dd-fb83-ab94e68a01ae"
      },
      "source": [
        "train_dataset = dsets.MNIST(root='./data', #把資料抓進來要存在哪裡\n",
        "                            train=True, #True->抓進來的為訓練資料,False->抓進來的為測試資料\n",
        "                            transform=transforms.ToTensor(), #資料進來時為圖片,需轉成其他形式\n",
        "                            download=True) #資料抓進來不要存在root底下,交給變數就好\n",
        "test_dataset = dsets.MNIST(root='./data',\n",
        "                            train=False,\n",
        "                            transform=transforms.ToTensor()) #test_data的download"
      ],
      "execution_count": 2,
      "outputs": [
        {
          "output_type": "stream",
          "name": "stdout",
          "text": [
            "Downloading http://yann.lecun.com/exdb/mnist/train-images-idx3-ubyte.gz\n",
            "Downloading http://yann.lecun.com/exdb/mnist/train-images-idx3-ubyte.gz to ./data/MNIST/raw/train-images-idx3-ubyte.gz\n"
          ]
        },
        {
          "output_type": "display_data",
          "data": {
            "application/vnd.jupyter.widget-view+json": {
              "model_id": "1760d85742804bd5a579db15f4d62a09",
              "version_minor": 0,
              "version_major": 2
            },
            "text/plain": [
              "  0%|          | 0/9912422 [00:00<?, ?it/s]"
            ]
          },
          "metadata": {}
        },
        {
          "output_type": "stream",
          "name": "stdout",
          "text": [
            "Extracting ./data/MNIST/raw/train-images-idx3-ubyte.gz to ./data/MNIST/raw\n",
            "\n",
            "Downloading http://yann.lecun.com/exdb/mnist/train-labels-idx1-ubyte.gz\n",
            "Downloading http://yann.lecun.com/exdb/mnist/train-labels-idx1-ubyte.gz to ./data/MNIST/raw/train-labels-idx1-ubyte.gz\n"
          ]
        },
        {
          "output_type": "display_data",
          "data": {
            "application/vnd.jupyter.widget-view+json": {
              "model_id": "0969477f6eeb4340a546d49aed1ab990",
              "version_minor": 0,
              "version_major": 2
            },
            "text/plain": [
              "  0%|          | 0/28881 [00:00<?, ?it/s]"
            ]
          },
          "metadata": {}
        },
        {
          "output_type": "stream",
          "name": "stdout",
          "text": [
            "Extracting ./data/MNIST/raw/train-labels-idx1-ubyte.gz to ./data/MNIST/raw\n",
            "\n",
            "Downloading http://yann.lecun.com/exdb/mnist/t10k-images-idx3-ubyte.gz\n",
            "Downloading http://yann.lecun.com/exdb/mnist/t10k-images-idx3-ubyte.gz to ./data/MNIST/raw/t10k-images-idx3-ubyte.gz\n"
          ]
        },
        {
          "output_type": "display_data",
          "data": {
            "application/vnd.jupyter.widget-view+json": {
              "model_id": "cdd9eaa2b331429782c74d8f623d8a51",
              "version_minor": 0,
              "version_major": 2
            },
            "text/plain": [
              "  0%|          | 0/1648877 [00:00<?, ?it/s]"
            ]
          },
          "metadata": {}
        },
        {
          "output_type": "stream",
          "name": "stdout",
          "text": [
            "Extracting ./data/MNIST/raw/t10k-images-idx3-ubyte.gz to ./data/MNIST/raw\n",
            "\n",
            "Downloading http://yann.lecun.com/exdb/mnist/t10k-labels-idx1-ubyte.gz\n",
            "Downloading http://yann.lecun.com/exdb/mnist/t10k-labels-idx1-ubyte.gz to ./data/MNIST/raw/t10k-labels-idx1-ubyte.gz\n"
          ]
        },
        {
          "output_type": "display_data",
          "data": {
            "application/vnd.jupyter.widget-view+json": {
              "model_id": "a8c583f0ce644eafbee492705d714f6d",
              "version_minor": 0,
              "version_major": 2
            },
            "text/plain": [
              "  0%|          | 0/4542 [00:00<?, ?it/s]"
            ]
          },
          "metadata": {}
        },
        {
          "output_type": "stream",
          "name": "stdout",
          "text": [
            "Extracting ./data/MNIST/raw/t10k-labels-idx1-ubyte.gz to ./data/MNIST/raw\n",
            "\n"
          ]
        }
      ]
    },
    {
      "cell_type": "code",
      "metadata": {
        "colab": {
          "base_uri": "https://localhost:8080/"
        },
        "id": "lTa2nJGq04x9",
        "outputId": "9256dfa5-2e6a-46db-c507-c91dc89de452"
      },
      "source": [
        "train_dataset.data.shape"
      ],
      "execution_count": 3,
      "outputs": [
        {
          "output_type": "execute_result",
          "data": {
            "text/plain": [
              "torch.Size([60000, 28, 28])"
            ]
          },
          "metadata": {},
          "execution_count": 3
        }
      ]
    },
    {
      "cell_type": "code",
      "metadata": {
        "id": "Z9-ieWSyEKmS"
      },
      "source": [
        "import matplotlib.pyplot as plt"
      ],
      "execution_count": 4,
      "outputs": []
    },
    {
      "cell_type": "code",
      "metadata": {
        "colab": {
          "base_uri": "https://localhost:8080/",
          "height": 281
        },
        "id": "8_Q6lcKuEWbM",
        "outputId": "a721bb1b-7397-4963-9f36-74fbcb9e737b"
      },
      "source": [
        "plt.imshow(train_dataset.data[0].numpy(),cmap='gray')\n",
        "plt.title(\"%i\" % train_dataset.targets[0])\n",
        "plt.show()"
      ],
      "execution_count": 5,
      "outputs": [
        {
          "output_type": "display_data",
          "data": {
            "image/png": "[encoded data removed]",
            "text/plain": [
              "<Figure size 432x288 with 1 Axes>"
            ]
          },
          "metadata": {
            "needs_background": "light"
          }
        }
      ]
    },
    {
      "cell_type": "code",
      "metadata": {
        "id": "e6x_9QnSFl0J"
      },
      "source": [
        "#定義超參數\n",
        "input_size = 28*28\n",
        "hidden_size = 500\n",
        "num_classes = 10\n",
        "num_epoch = 5\n",
        "batch_size = 100\n",
        "learning_rate = 0.001"
      ],
      "execution_count": 6,
      "outputs": []
    },
    {
      "cell_type": "code",
      "metadata": {
        "id": "PsWKvohjhFzp"
      },
      "source": [
        "import torch.utils.data as Data"
      ],
      "execution_count": 7,
      "outputs": []
    },
    {
      "cell_type": "code",
      "metadata": {
        "id": "uOymkw49hb_K"
      },
      "source": [
        "train_loader = Data.DataLoader(dataset=train_dataset,\n",
        "                               batch_size=batch_size,\n",
        "                               shuffle=True)\n",
        "test_loader = Data.DataLoader(dataset=test_dataset,\n",
        "                               batch_size=batch_size,\n",
        "                               shuffle=False)"
      ],
      "execution_count": 8,
      "outputs": []
    },
    {
      "cell_type": "code",
      "metadata": {
        "id": "wQE7v1fZjKWp"
      },
      "source": [
        "import torch.nn as nn"
      ],
      "execution_count": 9,
      "outputs": []
    },
    {
      "cell_type": "code",
      "metadata": {
        "id": "btRbWqfZjjah"
      },
      "source": [
        "#宣告一個類別,繼承torch.nn的module,把網絡搭建起來\n",
        "class Model(nn.Module):\n",
        "  def __init__(self, input_size, hidden_size, num_classes): #建構值\n",
        "      super(Model, self).__init__()\n",
        "      \n",
        "      #從input layer到隱藏層\n",
        "      self.fc1 = nn.Linear(input_size, hidden_size)\n",
        "      self.relu = nn.ReLU()\n",
        "      \n",
        "      #從隱藏層到輸出層\n",
        "      self.fc2 = nn.Linear(hidden_size, num_classes)\n",
        "  def forward(self, x):\n",
        "      out = self.fc1(x)\n",
        "      out = self.relu(out)\n",
        "      out = self.fc2(out)\n",
        "      return out"
      ],
      "execution_count": 10,
      "outputs": []
    },
    {
      "cell_type": "code",
      "metadata": {
        "id": "bBPdT3uXnpgC"
      },
      "source": [
        "model = Model(input_size, hidden_size, num_classes) #實體化並交給一個變數model"
      ],
      "execution_count": 11,
      "outputs": []
    },
    {
      "cell_type": "code",
      "metadata": {
        "id": "MHIzN55BU8Q3"
      },
      "source": [
        "import torch.optim as opt"
      ],
      "execution_count": 12,
      "outputs": []
    },
    {
      "cell_type": "code",
      "metadata": {
        "id": "ElG8h8NMVOUT"
      },
      "source": [
        "#Adam-Adaptive Moment Estimation自適應矩估計\n",
        "loss_fn = nn.CrossEntropyLoss()\n",
        "optimizer = opt.Adam(model.parameters(), lr=learning_rate) #將model裡的所有位置拿出來update"
      ],
      "execution_count": 13,
      "outputs": []
    },
    {
      "cell_type": "code",
      "metadata": {
        "id": "JFGvcoaKabQi"
      },
      "source": [
        "from torch.autograd import Variable"
      ],
      "execution_count": 14,
      "outputs": []
    },
    {
      "cell_type": "code",
      "metadata": {
        "colab": {
          "base_uri": "https://localhost:8080/"
        },
        "id": "XZLmEf4rXOUa",
        "outputId": "e1af408f-42c2-487c-8666-6e1fb50644c5"
      },
      "source": [
        "#traning\n",
        "for epoch in range(num_epoch):\n",
        "  for i, (images, labels) in enumerate(train_loader): #把data_loader裡的batch拿出來,enumerate幫忙編號\n",
        "    #要送進data的資料\n",
        "    images = Variable(images.view(-1,28*28)) #-1:原本100輸出就是100,1000就是1000;view():將整張圖片拉直變成一個向量塞進image\n",
        "    labels = Variable(labels)\n",
        "    optimizer.zero_grad() #做歸零的動作\n",
        "    outputs = model(images)\n",
        "    loss = loss_fn(outputs, labels) #預測結果放前面,答案放後面\n",
        "    loss.backward()\n",
        "    optimizer.step()\n",
        "    if (i+1)%100 == 0: #每100個做一次\n",
        "      print(\"Epoch:%d, Batch:%d, Loss:%.4f\" %(epoch+1, i+1, loss.data))"
      ],
      "execution_count": 15,
      "outputs": [
        {
          "output_type": "stream",
          "name": "stdout",
          "text": [
            "Epoch:1, Batch:100, Loss:0.2866\n",
            "Epoch:1, Batch:200, Loss:0.2312\n",
            "Epoch:1, Batch:300, Loss:0.1729\n",
            "Epoch:1, Batch:400, Loss:0.2681\n",
            "Epoch:1, Batch:500, Loss:0.1025\n",
            "Epoch:1, Batch:600, Loss:0.0757\n",
            "Epoch:2, Batch:100, Loss:0.0991\n",
            "Epoch:2, Batch:200, Loss:0.1440\n",
            "Epoch:2, Batch:300, Loss:0.2050\n",
            "Epoch:2, Batch:400, Loss:0.0621\n",
            "Epoch:2, Batch:500, Loss:0.1574\n",
            "Epoch:2, Batch:600, Loss:0.0628\n",
            "Epoch:3, Batch:100, Loss:0.0664\n",
            "Epoch:3, Batch:200, Loss:0.0924\n",
            "Epoch:3, Batch:300, Loss:0.0751\n",
            "Epoch:3, Batch:400, Loss:0.0996\n",
            "Epoch:3, Batch:500, Loss:0.0337\n",
            "Epoch:3, Batch:600, Loss:0.0373\n",
            "Epoch:4, Batch:100, Loss:0.0851\n",
            "Epoch:4, Batch:200, Loss:0.0812\n",
            "Epoch:4, Batch:300, Loss:0.0186\n",
            "Epoch:4, Batch:400, Loss:0.0532\n",
            "Epoch:4, Batch:500, Loss:0.1223\n",
            "Epoch:4, Batch:600, Loss:0.0622\n",
            "Epoch:5, Batch:100, Loss:0.0249\n",
            "Epoch:5, Batch:200, Loss:0.0139\n",
            "Epoch:5, Batch:300, Loss:0.0241\n",
            "Epoch:5, Batch:400, Loss:0.0123\n",
            "Epoch:5, Batch:500, Loss:0.0275\n",
            "Epoch:5, Batch:600, Loss:0.0314\n"
          ]
        }
      ]
    },
    {
      "cell_type": "code",
      "metadata": {
        "id": "ruWb410PhYMq"
      },
      "source": [
        "import torch"
      ],
      "execution_count": 16,
      "outputs": []
    },
    {
      "cell_type": "code",
      "metadata": {
        "colab": {
          "base_uri": "https://localhost:8080/"
        },
        "id": "daeP_C-HeKq4",
        "outputId": "fefcca3f-e7e8-4484-8ae3-27e8eb2a8cd7"
      },
      "source": [
        "#將測試資料放進去，看準確率是多少\n",
        "correct = 0 #分類正確的數量總共有多少筆\n",
        "total = 0 #總共有多少筆資料\n",
        "for images, labels in test_loader: #利用測試資料的dataloader，把資料一個batch一個batch load進來\n",
        "  images = Variable(images.view(-1,28*28)) #覆蓋掉原本的image，用原本的image做攤平的動作\n",
        "  outputs = model(images) #size=10的向量\n",
        "  _, pred = torch.max(outputs.data, 1) #_:最大值(代表沒有名稱的變數)，pred:所在位置(就是我們要預測的結果)，取每個 100*1 tensor的最大值\n",
        "  correct += (pred == labels).sum()\n",
        "  total += labels.size(0)\n",
        "print(\"Accuracy:%.3f%%\" %(100.0*float(correct)/float(total)))"
      ],
      "execution_count": 17,
      "outputs": [
        {
          "output_type": "stream",
          "name": "stdout",
          "text": [
            "Accuracy:97.840%\n"
          ]
        }
      ]
    },
    {
      "cell_type": "code",
      "metadata": {
        "colab": {
          "base_uri": "https://localhost:8080/"
        },
        "id": "JWil5Gz-lm0V",
        "outputId": "ca4ae3f0-2cce-44f5-9fd5-3ccf7eeaa48a"
      },
      "source": [
        "for images, labels in test_loader:\n",
        "  print(images.shape) #結果可看出原本的60000*28*28，被切成了每100筆為一份資料100*28*28，但因為做了data loader，所以多了一個維度1，之後需要把多的給消掉\n",
        "  break\n",
        "\n",
        "  "
      ],
      "execution_count": 18,
      "outputs": [
        {
          "output_type": "stream",
          "name": "stdout",
          "text": [
            "torch.Size([100, 1, 28, 28])\n"
          ]
        }
      ]
    },
    {
      "cell_type": "code",
      "metadata": {
        "colab": {
          "base_uri": "https://localhost:8080/",
          "height": 368
        },
        "id": "5ESAa3TSnql3",
        "outputId": "fab084f0-5b91-41fd-b8e6-4b1669969fe0"
      },
      "source": [
        "#送進去的資料的大小不見得是100張圖，可以是任意一張\n",
        "plt.imshow(images[1][0], cmap=\"gray\") #拿到第二張圖，不加上0的話會是三個維度，現在是4個維度。因為是灰階圖 color map 要給gray\n",
        "plt.title(labels[1].data)\n",
        "plt.show()\n",
        "images_flat = Variable(images[:2].view(-1,28*28)) #用前兩筆資料就好，保留第一個維度，後面資料全部合併在一起\n",
        "outputs = model(images_flat)\n",
        "print(outputs)\n",
        "_, pred_y = torch.max(outputs.data, -1) #這才是最後預測的結果\n",
        "print(pred_y)"
      ],
      "execution_count": 19,
      "outputs": [
        {
          "output_type": "display_data",
          "data": {
            "image/png": "[encoded data removed]",
            "text/plain": [
              "<Figure size 432x288 with 1 Axes>"
            ]
          },
          "metadata": {
            "needs_background": "light"
          }
        },
        {
          "output_type": "stream",
          "name": "stdout",
          "text": [
            "tensor([[ -6.4958,  -9.9961,  -2.2870,   2.1949, -12.5629,  -7.5736, -17.0423,\n",
            "           9.2554,  -1.7342,  -0.7108],\n",
            "        [ -6.1617,  -0.5064,  11.4783,  -0.2640, -22.1917,  -2.2269,  -2.9686,\n",
            "         -16.4039,  -2.3277, -14.9684]], grad_fn=<AddmmBackward0>)\n",
            "tensor([7, 2])\n"
          ]
        }
      ]
    },
    {
      "cell_type": "code",
      "metadata": {
        "id": "BFfGkPW3sGLv"
      },
      "source": [
        "#pytorch 存模型有兩種方式: 1.把parameters存起來就好(較保險) 2.把整個模型存出去(可能會出錯)\n",
        "#第一種方式:torch有一種方法直接儲存\n",
        "torch.save(model.state_dict(),\"model.pkl\") #\"model.pkl\"為檔名"
      ],
      "execution_count": 20,
      "outputs": []
    },
    {
      "cell_type": "code",
      "metadata": {
        "colab": {
          "base_uri": "https://localhost:8080/"
        },
        "id": "oLyqGM52t2TW",
        "outputId": "0490637b-5fca-4086-fbdd-11d0804e828d"
      },
      "source": [
        "model2 = Model(input_size, hidden_size, num_classes) #新建一個model\n",
        "model2.load_state_dict(torch.load(\"model.pkl\")) #將原本訓練好的模型參數覆蓋進去"
      ],
      "execution_count": 21,
      "outputs": [
        {
          "output_type": "execute_result",
          "data": {
            "text/plain": [
              "<All keys matched successfully>"
            ]
          },
          "metadata": {},
          "execution_count": 21
        }
      ]
    },
    {
      "cell_type": "code",
      "metadata": {
        "colab": {
          "base_uri": "https://localhost:8080/"
        },
        "id": "DEfizefQuWix",
        "outputId": "6621ca8a-d6d4-4c6c-eb66-565b0ec86cfd"
      },
      "source": [
        "correct = 0\n",
        "total = 0\n",
        "for images, labels in test_loader:\n",
        "  images = Variable(images.view(-1,28*28)) #攤平\n",
        "  outputs = model2(images)\n",
        "  _, pred = torch.max(outputs.data, 1)\n",
        "  correct += (pred == labels).sum()\n",
        "  total += labels.size(0)\n",
        "print(\"Accuracy:%.3f%%\" %(100.0*float(correct)/float(total)))"
      ],
      "execution_count": 22,
      "outputs": [
        {
          "output_type": "stream",
          "name": "stdout",
          "text": [
            "Accuracy:97.840%\n"
          ]
        }
      ]
    },
    {
      "cell_type": "code",
      "metadata": {
        "id": "bF1liH8fvp-q"
      },
      "source": [
        "#第二種方式\n",
        "torch.save(model2,\"model2.pkl\")"
      ],
      "execution_count": 23,
      "outputs": []
    },
    {
      "cell_type": "code",
      "metadata": {
        "id": "yn0GNfEOwRiH"
      },
      "source": [
        "model3 = torch.load(\"model2.pkl\")"
      ],
      "execution_count": 24,
      "outputs": []
    },
    {
      "cell_type": "code",
      "metadata": {
        "colab": {
          "base_uri": "https://localhost:8080/"
        },
        "id": "o2J0KGn5wtBf",
        "outputId": "b27ceef3-a30b-4312-9187-ec6a2e2d9756"
      },
      "source": [
        "correct = 0\n",
        "total = 0\n",
        "for images, labels in test_loader:\n",
        "  images = Variable(images.view(-1,28*28))\n",
        "  outputs = model3(images)\n",
        "  _, pred = torch.max(outputs.data, 1)\n",
        "  correct += (pred == labels).sum()\n",
        "  total += labels.size(0)\n",
        "print(\"Accuracy:%.3f%%\" %(100.0*float(correct)/float(total)))"
      ],
      "execution_count": 25,
      "outputs": [
        {
          "output_type": "stream",
          "name": "stdout",
          "text": [
            "Accuracy:97.840%\n"
          ]
        }
      ]
    },
    {
      "cell_type": "markdown",
      "metadata": {
        "id": "ruq8kQiaq0TK"
      },
      "source": [
        "# **Optimizer方法:SGD,AdaGrad,RMSprop,Adam**"
      ]
    },
    {
      "cell_type": "code",
      "metadata": {
        "id": "GMYp15xpw3GW",
        "colab": {
          "base_uri": "https://localhost:8080/"
        },
        "outputId": "596bbc79-8bf2-4e81-bb33-85b082266068"
      },
      "source": [
        "#更精簡的方式:Sequential\n",
        "model4 = nn.Sequential( #放要疊進去的data,必須按照順序\n",
        "    nn.Linear(input_size, hidden_size), #第一層:隱藏層,進去的大小和出去的大小\n",
        "    nn.ReLU(), #activation fuunction\n",
        "    nn.Linear(hidden_size, num_classes), #實質層\n",
        ")\n",
        "print(model)\n",
        "print(model4)"
      ],
      "execution_count": 26,
      "outputs": [
        {
          "output_type": "stream",
          "name": "stdout",
          "text": [
            "Model(\n",
            "  (fc1): Linear(in_features=784, out_features=500, bias=True)\n",
            "  (relu): ReLU()\n",
            "  (fc2): Linear(in_features=500, out_features=10, bias=True)\n",
            ")\n",
            "Sequential(\n",
            "  (0): Linear(in_features=784, out_features=500, bias=True)\n",
            "  (1): ReLU()\n",
            "  (2): Linear(in_features=500, out_features=10, bias=True)\n",
            ")\n"
          ]
        }
      ]
    },
    {
      "cell_type": "code",
      "metadata": {
        "id": "JxUHyTZ11M2-"
      },
      "source": [
        "#SGD-Stochastic Gradient Decent準確率梯度下降法\n",
        "#Momentum 是「運動量」的意思，此優化器為模擬物理動量的概念，在同方向的維度上學習速度會變快，方向改變的時候學習速度會變慢。\n",
        "#\"一顆球從山上滾下來，在下坡的時候速度越來越快，遇到上坡，方向改變，速度下降\"\n",
        "optimizer = opt.SGD(model4.parameters(), lr=learning_rate, momentum=0.5) #將model裡的所有位置拿出來update"
      ],
      "execution_count": 27,
      "outputs": []
    },
    {
      "cell_type": "code",
      "metadata": {
        "colab": {
          "base_uri": "https://localhost:8080/"
        },
        "id": "0mqgVA4S2ELX",
        "outputId": "d46ad5c0-5699-4ac8-8a8e-5d957cf0ee7b"
      },
      "source": [
        "#traning\n",
        "for epoch in range(num_epoch):\n",
        "  for i, (images, labels) in enumerate(train_loader): #把data_loader裡的batch拿出來,enumerate幫忙編號\n",
        "    #要送進data的資料\n",
        "    images = Variable(images.view(-1,28*28)) #-1:原本100輸出就是100,1000就是1000;view():將整張圖片拉直變成一個向量塞進image\n",
        "    labels = Variable(labels)\n",
        "    optimizer.zero_grad() #做歸零的動作\n",
        "    outputs = model4(images)\n",
        "    loss = loss_fn(outputs, labels) #預測結果放前面,答案放後面\n",
        "    loss.backward()\n",
        "    optimizer.step()\n",
        "    if (i+1)%100 == 0: #每100個做一次\n",
        "      print(\"Epoch:%d, Batch:%d, Loss:%.4f\" %(epoch+1, i+1, loss.data))"
      ],
      "execution_count": 28,
      "outputs": [
        {
          "output_type": "stream",
          "name": "stdout",
          "text": [
            "Epoch:1, Batch:100, Loss:2.2747\n",
            "Epoch:1, Batch:200, Loss:2.2152\n",
            "Epoch:1, Batch:300, Loss:2.1739\n",
            "Epoch:1, Batch:400, Loss:2.1234\n",
            "Epoch:1, Batch:500, Loss:2.0725\n",
            "Epoch:1, Batch:600, Loss:2.0194\n",
            "Epoch:2, Batch:100, Loss:1.8905\n",
            "Epoch:2, Batch:200, Loss:1.8896\n",
            "Epoch:2, Batch:300, Loss:1.8269\n",
            "Epoch:2, Batch:400, Loss:1.7532\n",
            "Epoch:2, Batch:500, Loss:1.6609\n",
            "Epoch:2, Batch:600, Loss:1.6377\n",
            "Epoch:3, Batch:100, Loss:1.5446\n",
            "Epoch:3, Batch:200, Loss:1.5076\n",
            "Epoch:3, Batch:300, Loss:1.3244\n",
            "Epoch:3, Batch:400, Loss:1.4350\n",
            "Epoch:3, Batch:500, Loss:1.3151\n",
            "Epoch:3, Batch:600, Loss:1.2505\n",
            "Epoch:4, Batch:100, Loss:1.2674\n",
            "Epoch:4, Batch:200, Loss:1.0297\n",
            "Epoch:4, Batch:300, Loss:1.0495\n",
            "Epoch:4, Batch:400, Loss:1.0821\n",
            "Epoch:4, Batch:500, Loss:0.9357\n",
            "Epoch:4, Batch:600, Loss:0.9988\n",
            "Epoch:5, Batch:100, Loss:1.0321\n",
            "Epoch:5, Batch:200, Loss:0.8333\n",
            "Epoch:5, Batch:300, Loss:0.7912\n",
            "Epoch:5, Batch:400, Loss:0.8778\n",
            "Epoch:5, Batch:500, Loss:0.7237\n",
            "Epoch:5, Batch:600, Loss:0.7676\n"
          ]
        }
      ]
    },
    {
      "cell_type": "code",
      "metadata": {
        "id": "w6EZEje83D26"
      },
      "source": [
        "#AdaGrad-Adaptive Gradient自適應梯度\n",
        "optimizer = opt.Adagrad(model4.parameters(), lr=learning_rate) #將model裡的所有位置拿出來update"
      ],
      "execution_count": 29,
      "outputs": []
    },
    {
      "cell_type": "code",
      "metadata": {
        "id": "G3muR7QG5W-e"
      },
      "source": [
        "#RMSProp-Root_Mean_Square prop方均根傳播\n",
        "optimizer = opt.RMSprop(model4.parameters(), lr=learning_rate) #將model裡的所有位置拿出來update"
      ],
      "execution_count": 30,
      "outputs": []
    },
    {
      "cell_type": "code",
      "metadata": {
        "id": "8kn_LnRxmP6H"
      },
      "source": [
        "#Adam-Adaptive Moment Estimation自適應矩估計(表現最好的optimizer)\n",
        "optimizer = opt.Adam(model4.parameters(), lr=learning_rate) #將model裡的所有位置拿出來update"
      ],
      "execution_count": 31,
      "outputs": []
    }
  ]
}